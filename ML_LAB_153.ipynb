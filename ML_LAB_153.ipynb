{
  "nbformat": 4,
  "nbformat_minor": 0,
  "metadata": {
    "colab": {
      "provenance": [],
      "authorship_tag": "ABX9TyP9Z3+7GvRGgFMH+H4i6KMg",
      "include_colab_link": true
    },
    "kernelspec": {
      "name": "python3",
      "display_name": "Python 3"
    },
    "language_info": {
      "name": "python"
    }
  },
  "cells": [
    {
      "cell_type": "markdown",
      "metadata": {
        "id": "view-in-github",
        "colab_type": "text"
      },
      "source": [
        "<a href=\"https://colab.research.google.com/github/vedasri2511/ML_153/blob/main/ML_LAB_153.ipynb\" target=\"_parent\"><img src=\"https://colab.research.google.com/assets/colab-badge.svg\" alt=\"Open In Colab\"/></a>"
      ]
    },
    {
      "cell_type": "code",
      "execution_count": null,
      "metadata": {
        "colab": {
          "base_uri": "https://localhost:8080/",
          "height": 106
        },
        "id": "zSffX9Vmf9Ii",
        "outputId": "b44fce7f-de06-4f88-ad51-92e20fa0b772"
      },
      "outputs": [
        {
          "output_type": "error",
          "ename": "SyntaxError",
          "evalue": "invalid decimal literal (ipython-input-2-3149321376.py, line 8)",
          "traceback": [
            "\u001b[0;36m  File \u001b[0;32m\"/tmp/ipython-input-2-3149321376.py\"\u001b[0;36m, line \u001b[0;32m8\u001b[0m\n\u001b[0;31m    to evaluate the model we use accuracy.2f\u001b[0m\n\u001b[0m                                          ^\u001b[0m\n\u001b[0;31mSyntaxError\u001b[0m\u001b[0;31m:\u001b[0m invalid decimal literal\n"
          ]
        }
      ],
      "source": [
        "df.head\n",
        "df.describe()\n",
        "uci repository\n",
        "cross validation\n",
        "scikit learn\n",
        "scikit learn documentation\n",
        "random_state: it helps to see the same output after training the model\n",
        "to evaluate the model we use accuracy.2f\n",
        "steps involved in ml are:\n",
        "1. data aquring\n",
        "2. data preprocessing or importing or collecting the data\n",
        "3. divide the data in terms of training and testing\n",
        "4. training the model\n",
        "5. test the model"
      ]
    },
    {
      "cell_type": "code",
      "source": [
        "import pandas as pd\n",
        "data = {\n",
        "    '2014': [100.5, 150.8, 200.9, 30000, 40000],\n",
        "    '2015': [12000, 18000, 22000, 30000, 45000],\n",
        "    '2016': [20000, 50000, 70000, 100000, 125000],\n",
        "    '2017': [50000, 60000, 70000, 80000, 90000]\n",
        "}\n",
        "sales_persons = ['Madhu', 'Kusum', 'Kinshuk', 'Ankit', 'Shruti']\n",
        "Sales = pd.DataFrame(data, index=sales_persons)\n",
        "print(Sales)"
      ],
      "metadata": {
        "colab": {
          "base_uri": "https://localhost:8080/"
        },
        "id": "hChBA0w9wWEJ",
        "outputId": "384d2019-1436-4b02-e159-5a259216316f"
      },
      "execution_count": 4,
      "outputs": [
        {
          "output_type": "stream",
          "name": "stdout",
          "text": [
            "            2014   2015    2016   2017\n",
            "Madhu      100.5  12000   20000  50000\n",
            "Kusum      150.8  18000   50000  60000\n",
            "Kinshuk    200.9  22000   70000  70000\n",
            "Ankit    30000.0  30000  100000  80000\n",
            "Shruti   40000.0  45000  125000  90000\n"
          ]
        }
      ]
    },
    {
      "cell_type": "code",
      "source": [
        "print(Sales.index)"
      ],
      "metadata": {
        "colab": {
          "base_uri": "https://localhost:8080/"
        },
        "id": "IrAF7sXqy__Y",
        "outputId": "2d278da1-cbd9-443b-9d60-861f0796ad99"
      },
      "execution_count": null,
      "outputs": [
        {
          "output_type": "stream",
          "name": "stdout",
          "text": [
            "Index(['Madhu', 'Kusum', 'Kinshuk', 'Ankit', 'Shruti'], dtype='object')\n"
          ]
        }
      ]
    },
    {
      "cell_type": "code",
      "source": [
        "print(Sales.columns)"
      ],
      "metadata": {
        "colab": {
          "base_uri": "https://localhost:8080/"
        },
        "id": "sa_o7hkZzT9I",
        "outputId": "c913a7a3-b545-4cb9-be3b-b0eee5e984b9"
      },
      "execution_count": null,
      "outputs": [
        {
          "output_type": "stream",
          "name": "stdout",
          "text": [
            "Index(['2014', '2015', '2016', '2017'], dtype='object')\n"
          ]
        }
      ]
    },
    {
      "cell_type": "code",
      "source": [
        "print(Sales.dtypes)"
      ],
      "metadata": {
        "colab": {
          "base_uri": "https://localhost:8080/"
        },
        "id": "izJymFfIzZSI",
        "outputId": "6e390204-b8b9-41fc-9e18-fb03810cfd89"
      },
      "execution_count": null,
      "outputs": [
        {
          "output_type": "stream",
          "name": "stdout",
          "text": [
            "2014    float64\n",
            "2015      int64\n",
            "2016      int64\n",
            "2017      int64\n",
            "dtype: object\n"
          ]
        }
      ]
    },
    {
      "cell_type": "code",
      "source": [
        "print(Sales.head(2))"
      ],
      "metadata": {
        "colab": {
          "base_uri": "https://localhost:8080/"
        },
        "id": "IoedBi9IzgOY",
        "outputId": "6c358fb3-ec24-4f54-dec6-97e2dd21cf26"
      },
      "execution_count": null,
      "outputs": [
        {
          "output_type": "stream",
          "name": "stdout",
          "text": [
            "        2014   2015   2016   2017\n",
            "Madhu  100.5  12000  20000  50000\n",
            "Kusum  150.8  18000  50000  60000\n"
          ]
        }
      ]
    },
    {
      "cell_type": "code",
      "source": [
        "print(Sales.tail(2))"
      ],
      "metadata": {
        "colab": {
          "base_uri": "https://localhost:8080/"
        },
        "id": "sR2uWRyKz4gY",
        "outputId": "c0b53fb4-45d0-415f-8adc-4b069dc34ab5"
      },
      "execution_count": null,
      "outputs": [
        {
          "output_type": "stream",
          "name": "stdout",
          "text": [
            "           2014   2015    2016   2017\n",
            "Ankit   30000.0  30000  100000  80000\n",
            "Shruti  40000.0  45000  125000  90000\n"
          ]
        }
      ]
    },
    {
      "cell_type": "code",
      "source": [
        "import pandas as pd\n",
        "data2={\"2018\":[[160000, 110000, 500000, 340000, 900000]]}\n",
        "sales2=pd.DataFrame(data2,index=sales_persons)\n",
        "print(sales2)"
      ],
      "metadata": {
        "colab": {
          "base_uri": "https://localhost:8080/"
        },
        "id": "xrsPCMtlz-uo",
        "outputId": "5e678f0a-dd1e-4651-b9dc-47db3a5e6731"
      },
      "execution_count": 5,
      "outputs": [
        {
          "output_type": "stream",
          "name": "stdout",
          "text": [
            "                                             2018\n",
            "Madhu    [160000, 110000, 500000, 340000, 900000]\n",
            "Kusum    [160000, 110000, 500000, 340000, 900000]\n",
            "Kinshuk  [160000, 110000, 500000, 340000, 900000]\n",
            "Ankit    [160000, 110000, 500000, 340000, 900000]\n",
            "Shruti   [160000, 110000, 500000, 340000, 900000]\n"
          ]
        }
      ]
    },
    {
      "cell_type": "code",
      "source": [
        "print(sales2.empty)"
      ],
      "metadata": {
        "id": "1r4Ewkl-2TdQ",
        "outputId": "f9155f2c-7f85-4b87-d731-76c4812cfaa7",
        "colab": {
          "base_uri": "https://localhost:8080/"
        }
      },
      "execution_count": 6,
      "outputs": [
        {
          "output_type": "stream",
          "name": "stdout",
          "text": [
            "False\n"
          ]
        }
      ]
    },
    {
      "cell_type": "code",
      "source": [],
      "metadata": {
        "id": "D2A_7-722pIz"
      },
      "execution_count": null,
      "outputs": []
    }
  ]
}