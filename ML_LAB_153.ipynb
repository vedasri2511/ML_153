{
  "nbformat": 4,
  "nbformat_minor": 0,
  "metadata": {
    "colab": {
      "provenance": [],
      "authorship_tag": "ABX9TyNX0IenWX8p4Yxw50ZwDmDI",
      "include_colab_link": true
    },
    "kernelspec": {
      "name": "python3",
      "display_name": "Python 3"
    },
    "language_info": {
      "name": "python"
    }
  },
  "cells": [
    {
      "cell_type": "markdown",
      "metadata": {
        "id": "view-in-github",
        "colab_type": "text"
      },
      "source": [
        "<a href=\"https://colab.research.google.com/github/vedasri2511/ML_153/blob/main/ML_LAB_153.ipynb\" target=\"_parent\"><img src=\"https://colab.research.google.com/assets/colab-badge.svg\" alt=\"Open In Colab\"/></a>"
      ]
    },
    {
      "cell_type": "code",
      "execution_count": null,
      "metadata": {
        "colab": {
          "base_uri": "https://localhost:8080/",
          "height": 106
        },
        "id": "zSffX9Vmf9Ii",
        "outputId": "b44fce7f-de06-4f88-ad51-92e20fa0b772"
      },
      "outputs": [
        {
          "output_type": "error",
          "ename": "SyntaxError",
          "evalue": "invalid decimal literal (ipython-input-2-3149321376.py, line 8)",
          "traceback": [
            "\u001b[0;36m  File \u001b[0;32m\"/tmp/ipython-input-2-3149321376.py\"\u001b[0;36m, line \u001b[0;32m8\u001b[0m\n\u001b[0;31m    to evaluate the model we use accuracy.2f\u001b[0m\n\u001b[0m                                          ^\u001b[0m\n\u001b[0;31mSyntaxError\u001b[0m\u001b[0;31m:\u001b[0m invalid decimal literal\n"
          ]
        }
      ],
      "source": [
        "df.head\n",
        "df.describe()\n",
        "uci repository\n",
        "cross validation\n",
        "scikit learn\n",
        "scikit learn documentation\n",
        "random_state: it helps to see the same output after training the model\n",
        "to evaluate the model we use accuracy.2f\n",
        "steps involved in ml are:\n",
        "1. data aquring\n",
        "2. data preprocessing or importing or collecting the data\n",
        "3. divide the data in terms of training and testing\n",
        "4. training the model\n",
        "5. test the model"
      ]
    },
    {
      "cell_type": "code",
      "source": [
        "import pandas as pd\n",
        "data = {\n",
        "    '2014': [100.5, 150.8, 200.9, 30000, 40000],\n",
        "    '2015': [12000, 18000, 22000, 30000, 45000],\n",
        "    '2016': [20000, 50000, 70000, 100000, 125000],\n",
        "    '2017': [50000, 60000, 70000, 80000, 90000]\n",
        "}\n",
        "sales_persons = ['Madhu', 'Kusum', 'Kinshuk', 'Ankit', 'Shruti']\n",
        "Sales = pd.DataFrame(data, index=sales_persons)\n",
        "print(Sales)"
      ],
      "metadata": {
        "colab": {
          "base_uri": "https://localhost:8080/"
        },
        "id": "hChBA0w9wWEJ",
        "outputId": "384d2019-1436-4b02-e159-5a259216316f"
      },
      "execution_count": null,
      "outputs": [
        {
          "output_type": "stream",
          "name": "stdout",
          "text": [
            "            2014   2015    2016   2017\n",
            "Madhu      100.5  12000   20000  50000\n",
            "Kusum      150.8  18000   50000  60000\n",
            "Kinshuk    200.9  22000   70000  70000\n",
            "Ankit    30000.0  30000  100000  80000\n",
            "Shruti   40000.0  45000  125000  90000\n"
          ]
        }
      ]
    },
    {
      "cell_type": "code",
      "source": [
        "print(Sales.index)"
      ],
      "metadata": {
        "colab": {
          "base_uri": "https://localhost:8080/"
        },
        "id": "IrAF7sXqy__Y",
        "outputId": "2d278da1-cbd9-443b-9d60-861f0796ad99"
      },
      "execution_count": null,
      "outputs": [
        {
          "output_type": "stream",
          "name": "stdout",
          "text": [
            "Index(['Madhu', 'Kusum', 'Kinshuk', 'Ankit', 'Shruti'], dtype='object')\n"
          ]
        }
      ]
    },
    {
      "cell_type": "code",
      "source": [
        "print(Sales.columns)"
      ],
      "metadata": {
        "colab": {
          "base_uri": "https://localhost:8080/"
        },
        "id": "sa_o7hkZzT9I",
        "outputId": "c913a7a3-b545-4cb9-be3b-b0eee5e984b9"
      },
      "execution_count": null,
      "outputs": [
        {
          "output_type": "stream",
          "name": "stdout",
          "text": [
            "Index(['2014', '2015', '2016', '2017'], dtype='object')\n"
          ]
        }
      ]
    },
    {
      "cell_type": "code",
      "source": [
        "print(Sales.dtypes)"
      ],
      "metadata": {
        "colab": {
          "base_uri": "https://localhost:8080/"
        },
        "id": "izJymFfIzZSI",
        "outputId": "6e390204-b8b9-41fc-9e18-fb03810cfd89"
      },
      "execution_count": null,
      "outputs": [
        {
          "output_type": "stream",
          "name": "stdout",
          "text": [
            "2014    float64\n",
            "2015      int64\n",
            "2016      int64\n",
            "2017      int64\n",
            "dtype: object\n"
          ]
        }
      ]
    },
    {
      "cell_type": "code",
      "source": [
        "print(Sales.head(2))"
      ],
      "metadata": {
        "colab": {
          "base_uri": "https://localhost:8080/"
        },
        "id": "IoedBi9IzgOY",
        "outputId": "6c358fb3-ec24-4f54-dec6-97e2dd21cf26"
      },
      "execution_count": null,
      "outputs": [
        {
          "output_type": "stream",
          "name": "stdout",
          "text": [
            "        2014   2015   2016   2017\n",
            "Madhu  100.5  12000  20000  50000\n",
            "Kusum  150.8  18000  50000  60000\n"
          ]
        }
      ]
    },
    {
      "cell_type": "code",
      "source": [
        "print(Sales.tail(2))"
      ],
      "metadata": {
        "colab": {
          "base_uri": "https://localhost:8080/"
        },
        "id": "sR2uWRyKz4gY",
        "outputId": "c0b53fb4-45d0-415f-8adc-4b069dc34ab5"
      },
      "execution_count": null,
      "outputs": [
        {
          "output_type": "stream",
          "name": "stdout",
          "text": [
            "           2014   2015    2016   2017\n",
            "Ankit   30000.0  30000  100000  80000\n",
            "Shruti  40000.0  45000  125000  90000\n"
          ]
        }
      ]
    },
    {
      "cell_type": "code",
      "source": [
        "import pandas as pd\n",
        "data2={\"2018\":[[160000, 110000, 500000, 340000, 900000]]}\n",
        "sales2=pd.DataFrame(data2,index=sales_persons)\n",
        "print(sales2)"
      ],
      "metadata": {
        "colab": {
          "base_uri": "https://localhost:8080/"
        },
        "id": "xrsPCMtlz-uo",
        "outputId": "5e678f0a-dd1e-4651-b9dc-47db3a5e6731"
      },
      "execution_count": null,
      "outputs": [
        {
          "output_type": "stream",
          "name": "stdout",
          "text": [
            "                                             2018\n",
            "Madhu    [160000, 110000, 500000, 340000, 900000]\n",
            "Kusum    [160000, 110000, 500000, 340000, 900000]\n",
            "Kinshuk  [160000, 110000, 500000, 340000, 900000]\n",
            "Ankit    [160000, 110000, 500000, 340000, 900000]\n",
            "Shruti   [160000, 110000, 500000, 340000, 900000]\n"
          ]
        }
      ]
    },
    {
      "cell_type": "code",
      "source": [
        "print(sales2.empty)"
      ],
      "metadata": {
        "id": "1r4Ewkl-2TdQ",
        "outputId": "f9155f2c-7f85-4b87-d731-76c4812cfaa7",
        "colab": {
          "base_uri": "https://localhost:8080/"
        }
      },
      "execution_count": null,
      "outputs": [
        {
          "output_type": "stream",
          "name": "stdout",
          "text": [
            "False\n"
          ]
        }
      ]
    },
    {
      "cell_type": "code",
      "source": [
        "import pandas as pd\n",
        "sales = pd.DataFrame({\n",
        "    'Product': ['A', 'B', 'C'],\n",
        "    'Revenue': [1000, 1500, 800],\n",
        "    'Region': ['North', 'South', 'East']\n",
        "})\n",
        "sales.to_csv(\"SalesFigures.csv\", index=False, header=False)\n",
        "SalesRetrieved = pd.read_csv(\"SalesFigures.csv\", header=None)\n",
        "\n",
        "SalesRetrieved.index = sales.index\n",
        "SalesRetrieved.columns = sales.columns\n",
        "print(SalesRetrieved)\n"
      ],
      "metadata": {
        "id": "D2A_7-722pIz",
        "colab": {
          "base_uri": "https://localhost:8080/"
        },
        "outputId": "175823ce-0f4e-4500-c480-775c0a923748"
      },
      "execution_count": 2,
      "outputs": [
        {
          "output_type": "stream",
          "name": "stdout",
          "text": [
            "  Product  Revenue Region\n",
            "0       A     1000  North\n",
            "1       B     1500  South\n",
            "2       C      800   East\n"
          ]
        }
      ]
    },
    {
      "cell_type": "code",
      "source": [
        "import pandas as pd\n",
        "data = {\n",
        "    \"Item\": [\"TV\", \"TV\", \"TV\", \"AC\"],\n",
        "    \"Company\": [\"LG\", \"VIDEOCON\", \"LG\", \"SONY\"],\n",
        "    \"Rupees\": [12000, 10000, 15000, 14000],\n",
        "    \"USD\": [200, 180, 250, 230]\n",
        "}\n",
        "df = pd.DataFrame(data)\n",
        "print(df)\n"
      ],
      "metadata": {
        "colab": {
          "base_uri": "https://localhost:8080/"
        },
        "id": "3dc1-xiBKljh",
        "outputId": "39d2f174-0805-4854-fd16-11c3a82ee898"
      },
      "execution_count": 3,
      "outputs": [
        {
          "output_type": "stream",
          "name": "stdout",
          "text": [
            "  Item   Company  Rupees  USD\n",
            "0   TV        LG   12000  200\n",
            "1   TV  VIDEOCON   10000  180\n",
            "2   TV        LG   15000  250\n",
            "3   AC      SONY   14000  230\n"
          ]
        }
      ]
    },
    {
      "cell_type": "code",
      "source": [
        " total_rupees = df['Rupees'].sum()\n",
        " print(\"Total sum of all products in Rupees:\", total_rupees)"
      ],
      "metadata": {
        "colab": {
          "base_uri": "https://localhost:8080/"
        },
        "id": "0Fr8-SEhLDlA",
        "outputId": "e5c02d45-ed6d-4fc5-d869-30dcc2af57ab"
      },
      "execution_count": 6,
      "outputs": [
        {
          "output_type": "stream",
          "name": "stdout",
          "text": [
            "Total sum of all products in Rupees: 51000\n"
          ]
        }
      ]
    },
    {
      "cell_type": "code",
      "source": [
        "   sony_median_usd = df[df['Company'] == 'SONY']['USD'].median()\n",
        "   print(\"Median USD for SONY products:\", sony_median_usd)"
      ],
      "metadata": {
        "colab": {
          "base_uri": "https://localhost:8080/"
        },
        "id": "ONN-G9e4LV6M",
        "outputId": "6f6cd1fe-8e8b-42dc-f036-7844c2f83597"
      },
      "execution_count": 10,
      "outputs": [
        {
          "output_type": "stream",
          "name": "stdout",
          "text": [
            "Median USD for SONY products: 230.0\n"
          ]
        }
      ]
    },
    {
      "cell_type": "code",
      "source": [
        "   sorted_df = df.sort_values(by='Rupees')\n",
        "   print(sorted_df)"
      ],
      "metadata": {
        "colab": {
          "base_uri": "https://localhost:8080/"
        },
        "id": "QGkNTpxnLeSS",
        "outputId": "872be3c6-360c-48e7-d666-ad7a04199eef"
      },
      "execution_count": 11,
      "outputs": [
        {
          "output_type": "stream",
          "name": "stdout",
          "text": [
            "  Item   Company  Rupees  USD\n",
            "1   TV  VIDEOCON   10000  180\n",
            "0   TV        LG   12000  200\n",
            "3   AC      SONY   14000  230\n",
            "2   TV        LG   15000  250\n"
          ]
        }
      ]
    },
    {
      "cell_type": "code",
      "source": [
        "   sorted_df = df.sort_values(by='Rupees')\n",
        "   print(sorted_df)"
      ],
      "metadata": {
        "colab": {
          "base_uri": "https://localhost:8080/"
        },
        "id": "Xy6qz_UnLkwR",
        "outputId": "fc32a560-2867-4221-948a-5c63d1bd06b4"
      },
      "execution_count": 13,
      "outputs": [
        {
          "output_type": "stream",
          "name": "stdout",
          "text": [
            "  Item   Company  Rupees  USD\n",
            "1   TV  VIDEOCON   10000  180\n",
            "0   TV        LG   12000  200\n",
            "3   AC      SONY   14000  230\n",
            "2   TV        LG   15000  250\n"
          ]
        }
      ]
    },
    {
      "cell_type": "code",
      "source": [
        "import pandas as pd\n",
        "import numpy as np\n",
        "\n",
        "data = {\n",
        "    \"Name\": [\"Aparna\", \"Pankaj\", \"Ram\", \"Ramesh\", \"Naveen\", \"Krrishnav\", \"Bhawna\"],\n",
        "    \"Degree\": [\"MBA\", \"BCA\", \"M.Tech\", \"MBA\", \"BBA\", \"B.Com\", \"MCA\"],\n",
        "    \"Score\": [90, 85, np.nan, 88, 75, 82, np.nan]\n",
        "}\n",
        "\n",
        "df2 = pd.DataFrame(data)\n",
        "print(df2)\n"
      ],
      "metadata": {
        "id": "ArPHvZ8BLxuL",
        "outputId": "64d4af2f-2513-45d4-e676-269b5633c26a",
        "colab": {
          "base_uri": "https://localhost:8080/"
        }
      },
      "execution_count": 17,
      "outputs": [
        {
          "output_type": "stream",
          "name": "stdout",
          "text": [
            "        Name  Degree  Score\n",
            "0     Aparna     MBA   90.0\n",
            "1     Pankaj     BCA   85.0\n",
            "2        Ram  M.Tech    NaN\n",
            "3     Ramesh     MBA   88.0\n",
            "4     Naveen     BBA   75.0\n",
            "5  Krrishnav   B.Com   82.0\n",
            "6     Bhawna     MCA    NaN\n"
          ]
        }
      ]
    },
    {
      "cell_type": "code",
      "source": [
        "   print(df2.groupby(\"Degree\")[\"Score\"].max())"
      ],
      "metadata": {
        "id": "HactjEp5MPn7",
        "outputId": "07392e01-941e-4107-9280-f6e6fe4db4c5",
        "colab": {
          "base_uri": "https://localhost:8080/"
        }
      },
      "execution_count": 19,
      "outputs": [
        {
          "output_type": "stream",
          "name": "stdout",
          "text": [
            "Degree\n",
            "B.Com     82.0\n",
            "BBA       75.0\n",
            "BCA       85.0\n",
            "M.Tech     NaN\n",
            "MBA       90.0\n",
            "MCA        NaN\n",
            "Name: Score, dtype: float64\n"
          ]
        }
      ]
    },
    {
      "cell_type": "code",
      "source": [
        "    df_filled = df2[\"Score\"].fillna(76)\n",
        "    print(df_filled)"
      ],
      "metadata": {
        "id": "VlRX7qKCMX4e",
        "outputId": "d9793b33-ce5d-444b-fd39-aa30777a0e46",
        "colab": {
          "base_uri": "https://localhost:8080/"
        }
      },
      "execution_count": 21,
      "outputs": [
        {
          "output_type": "stream",
          "name": "stdout",
          "text": [
            "0    90.0\n",
            "1    85.0\n",
            "2    76.0\n",
            "3    88.0\n",
            "4    75.0\n",
            "5    82.0\n",
            "6    76.0\n",
            "Name: Score, dtype: float64\n"
          ]
        }
      ]
    },
    {
      "cell_type": "code",
      "source": [
        "   df2.set_index(\"Name\", inplace=True)\n",
        "   print(df2)"
      ],
      "metadata": {
        "id": "jZD9YTQ3MdyF",
        "outputId": "58b5758c-5393-4c1b-f568-2fba61f8ddab",
        "colab": {
          "base_uri": "https://localhost:8080/"
        }
      },
      "execution_count": 22,
      "outputs": [
        {
          "output_type": "stream",
          "name": "stdout",
          "text": [
            "           Degree  Score\n",
            "Name                    \n",
            "Aparna        MBA   90.0\n",
            "Pankaj        BCA   85.0\n",
            "Ram        M.Tech    NaN\n",
            "Ramesh        MBA   88.0\n",
            "Naveen        BBA   75.0\n",
            "Krrishnav   B.Com   82.0\n",
            "Bhawna        MCA    NaN\n"
          ]
        }
      ]
    },
    {
      "cell_type": "code",
      "source": [
        "    df2.reset_index(inplace=True)\n",
        "    avg_scores = df2.groupby([\"Name\", \"Degree\"])[\"Score\"].mean()\n",
        "    print(avg_scores)\n",
        ""
      ],
      "metadata": {
        "id": "PyAN5FdyMlZI",
        "outputId": "4659c855-6762-451a-8f05-67ba574e2c55",
        "colab": {
          "base_uri": "https://localhost:8080/"
        }
      },
      "execution_count": 24,
      "outputs": [
        {
          "output_type": "stream",
          "name": "stdout",
          "text": [
            "Name       Degree\n",
            "Aparna     MBA       90.0\n",
            "Bhawna     MCA        NaN\n",
            "Krrishnav  B.Com     82.0\n",
            "Naveen     BBA       75.0\n",
            "Pankaj     BCA       85.0\n",
            "Ram        M.Tech     NaN\n",
            "Ramesh     MBA       88.0\n",
            "Name: Score, dtype: float64\n"
          ]
        }
      ]
    },
    {
      "cell_type": "code",
      "source": [
        "   mba_count = df2[df2[\"Degree\"] == \"MBA\"].shape[0]\n",
        "   print(\"Number of MBA students:\", mba_count)"
      ],
      "metadata": {
        "id": "dlRY5Xx4Muit",
        "outputId": "8777a0a8-4134-43ad-a5d5-96179d0854df",
        "colab": {
          "base_uri": "https://localhost:8080/"
        }
      },
      "execution_count": 25,
      "outputs": [
        {
          "output_type": "stream",
          "name": "stdout",
          "text": [
            "Number of MBA students: 2\n"
          ]
        }
      ]
    },
    {
      "cell_type": "code",
      "source": [
        "   bca_mode = df2[df2[\"Degree\"] == \"BCA\"][\"Score\"].mode()\n",
        "   print(\"Mode of BCA scores:\", bca_mode.values)"
      ],
      "metadata": {
        "id": "4Odir_o3Mzfr",
        "outputId": "d8ee31c3-852a-4156-8c35-a42c923b5d43",
        "colab": {
          "base_uri": "https://localhost:8080/"
        }
      },
      "execution_count": 26,
      "outputs": [
        {
          "output_type": "stream",
          "name": "stdout",
          "text": [
            "Mode of BCA scores: [85.]\n"
          ]
        }
      ]
    }
  ]
}