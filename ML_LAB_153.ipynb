{
  "nbformat": 4,
  "nbformat_minor": 0,
  "metadata": {
    "colab": {
      "provenance": [],
      "authorship_tag": "ABX9TyOKVDi+pndEmEvjZBLXnMaK",
      "include_colab_link": true
    },
    "kernelspec": {
      "name": "python3",
      "display_name": "Python 3"
    },
    "language_info": {
      "name": "python"
    }
  },
  "cells": [
    {
      "cell_type": "markdown",
      "metadata": {
        "id": "view-in-github",
        "colab_type": "text"
      },
      "source": [
        "<a href=\"https://colab.research.google.com/github/vedasri2511/ML_153/blob/main/ML_LAB_153.ipynb\" target=\"_parent\"><img src=\"https://colab.research.google.com/assets/colab-badge.svg\" alt=\"Open In Colab\"/></a>"
      ]
    },
    {
      "cell_type": "code",
      "execution_count": null,
      "metadata": {
        "colab": {
          "base_uri": "https://localhost:8080/",
          "height": 106
        },
        "id": "zSffX9Vmf9Ii",
        "outputId": "b44fce7f-de06-4f88-ad51-92e20fa0b772"
      },
      "outputs": [
        {
          "output_type": "error",
          "ename": "SyntaxError",
          "evalue": "invalid decimal literal (ipython-input-2-3149321376.py, line 8)",
          "traceback": [
            "\u001b[0;36m  File \u001b[0;32m\"/tmp/ipython-input-2-3149321376.py\"\u001b[0;36m, line \u001b[0;32m8\u001b[0m\n\u001b[0;31m    to evaluate the model we use accuracy.2f\u001b[0m\n\u001b[0m                                          ^\u001b[0m\n\u001b[0;31mSyntaxError\u001b[0m\u001b[0;31m:\u001b[0m invalid decimal literal\n"
          ]
        }
      ],
      "source": [
        "df.head\n",
        "df.describe()\n",
        "uci repository\n",
        "cross validation\n",
        "scikit learn\n",
        "scikit learn documentation\n",
        "random_state: it helps to see the same output after training the model\n",
        "to evaluate the model we use accuracy.2f\n",
        "steps involved in ml are:\n",
        "1. data aquring\n",
        "2. data preprocessing or importing or collecting the data\n",
        "3. divide the data in terms of training and testing\n",
        "4. training the model\n",
        "5. test the model"
      ]
    },
    {
      "cell_type": "code",
      "source": [
        "import pandas as pd\n",
        "data = {\n",
        "    '2014': [100.5, 150.8, 200.9, 30000, 40000],\n",
        "    '2015': [12000, 18000, 22000, 30000, 45000],\n",
        "    '2016': [20000, 50000, 70000, 100000, 125000],\n",
        "    '2017': [50000, 60000, 70000, 80000, 90000]\n",
        "}\n",
        "sales_persons = ['Madhu', 'Kusum', 'Kinshuk', 'Ankit', 'Shruti']\n",
        "Sales = pd.DataFrame(data, index=sales_persons)\n",
        "print(Sales)"
      ],
      "metadata": {
        "colab": {
          "base_uri": "https://localhost:8080/"
        },
        "id": "hChBA0w9wWEJ",
        "outputId": "384d2019-1436-4b02-e159-5a259216316f"
      },
      "execution_count": null,
      "outputs": [
        {
          "output_type": "stream",
          "name": "stdout",
          "text": [
            "            2014   2015    2016   2017\n",
            "Madhu      100.5  12000   20000  50000\n",
            "Kusum      150.8  18000   50000  60000\n",
            "Kinshuk    200.9  22000   70000  70000\n",
            "Ankit    30000.0  30000  100000  80000\n",
            "Shruti   40000.0  45000  125000  90000\n"
          ]
        }
      ]
    },
    {
      "cell_type": "code",
      "source": [
        "print(Sales.index)"
      ],
      "metadata": {
        "colab": {
          "base_uri": "https://localhost:8080/"
        },
        "id": "IrAF7sXqy__Y",
        "outputId": "2d278da1-cbd9-443b-9d60-861f0796ad99"
      },
      "execution_count": null,
      "outputs": [
        {
          "output_type": "stream",
          "name": "stdout",
          "text": [
            "Index(['Madhu', 'Kusum', 'Kinshuk', 'Ankit', 'Shruti'], dtype='object')\n"
          ]
        }
      ]
    },
    {
      "cell_type": "code",
      "source": [
        "print(Sales.columns)"
      ],
      "metadata": {
        "colab": {
          "base_uri": "https://localhost:8080/"
        },
        "id": "sa_o7hkZzT9I",
        "outputId": "c913a7a3-b545-4cb9-be3b-b0eee5e984b9"
      },
      "execution_count": null,
      "outputs": [
        {
          "output_type": "stream",
          "name": "stdout",
          "text": [
            "Index(['2014', '2015', '2016', '2017'], dtype='object')\n"
          ]
        }
      ]
    },
    {
      "cell_type": "code",
      "source": [
        "print(Sales.dtypes)"
      ],
      "metadata": {
        "colab": {
          "base_uri": "https://localhost:8080/"
        },
        "id": "izJymFfIzZSI",
        "outputId": "6e390204-b8b9-41fc-9e18-fb03810cfd89"
      },
      "execution_count": null,
      "outputs": [
        {
          "output_type": "stream",
          "name": "stdout",
          "text": [
            "2014    float64\n",
            "2015      int64\n",
            "2016      int64\n",
            "2017      int64\n",
            "dtype: object\n"
          ]
        }
      ]
    },
    {
      "cell_type": "code",
      "source": [
        "print(Sales.head(2))"
      ],
      "metadata": {
        "colab": {
          "base_uri": "https://localhost:8080/"
        },
        "id": "IoedBi9IzgOY",
        "outputId": "6c358fb3-ec24-4f54-dec6-97e2dd21cf26"
      },
      "execution_count": null,
      "outputs": [
        {
          "output_type": "stream",
          "name": "stdout",
          "text": [
            "        2014   2015   2016   2017\n",
            "Madhu  100.5  12000  20000  50000\n",
            "Kusum  150.8  18000  50000  60000\n"
          ]
        }
      ]
    },
    {
      "cell_type": "code",
      "source": [
        "print(Sales.tail(2))"
      ],
      "metadata": {
        "colab": {
          "base_uri": "https://localhost:8080/"
        },
        "id": "sR2uWRyKz4gY",
        "outputId": "c0b53fb4-45d0-415f-8adc-4b069dc34ab5"
      },
      "execution_count": null,
      "outputs": [
        {
          "output_type": "stream",
          "name": "stdout",
          "text": [
            "           2014   2015    2016   2017\n",
            "Ankit   30000.0  30000  100000  80000\n",
            "Shruti  40000.0  45000  125000  90000\n"
          ]
        }
      ]
    },
    {
      "cell_type": "code",
      "source": [
        "import pandas as pd\n",
        "data2={\"2018\":[[160000, 110000, 500000, 340000, 900000]]}\n",
        "sales2=pd.DataFrame(data2,index=sales_persons)\n",
        "print(sales2)"
      ],
      "metadata": {
        "colab": {
          "base_uri": "https://localhost:8080/"
        },
        "id": "xrsPCMtlz-uo",
        "outputId": "5e678f0a-dd1e-4651-b9dc-47db3a5e6731"
      },
      "execution_count": null,
      "outputs": [
        {
          "output_type": "stream",
          "name": "stdout",
          "text": [
            "                                             2018\n",
            "Madhu    [160000, 110000, 500000, 340000, 900000]\n",
            "Kusum    [160000, 110000, 500000, 340000, 900000]\n",
            "Kinshuk  [160000, 110000, 500000, 340000, 900000]\n",
            "Ankit    [160000, 110000, 500000, 340000, 900000]\n",
            "Shruti   [160000, 110000, 500000, 340000, 900000]\n"
          ]
        }
      ]
    },
    {
      "cell_type": "code",
      "source": [
        "print(sales2.empty)"
      ],
      "metadata": {
        "id": "1r4Ewkl-2TdQ",
        "outputId": "f9155f2c-7f85-4b87-d731-76c4812cfaa7",
        "colab": {
          "base_uri": "https://localhost:8080/"
        }
      },
      "execution_count": null,
      "outputs": [
        {
          "output_type": "stream",
          "name": "stdout",
          "text": [
            "False\n"
          ]
        }
      ]
    },
    {
      "cell_type": "code",
      "source": [
        "import pandas as pd\n",
        "sales = pd.DataFrame({\n",
        "    'Product': ['A', 'B', 'C'],\n",
        "    'Revenue': [1000, 1500, 800],\n",
        "    'Region': ['North', 'South', 'East']\n",
        "})\n",
        "sales.to_csv(\"SalesFigures.csv\", index=False, header=False)\n",
        "SalesRetrieved = pd.read_csv(\"SalesFigures.csv\", header=None)\n",
        "\n",
        "SalesRetrieved.index = sales.index\n",
        "SalesRetrieved.columns = sales.columns\n",
        "print(SalesRetrieved)\n"
      ],
      "metadata": {
        "id": "D2A_7-722pIz",
        "outputId": "175823ce-0f4e-4500-c480-775c0a923748",
        "colab": {
          "base_uri": "https://localhost:8080/"
        }
      },
      "execution_count": 2,
      "outputs": [
        {
          "output_type": "stream",
          "name": "stdout",
          "text": [
            "  Product  Revenue Region\n",
            "0       A     1000  North\n",
            "1       B     1500  South\n",
            "2       C      800   East\n"
          ]
        }
      ]
    },
    {
      "cell_type": "code",
      "source": [
        "import pandas as pd\n",
        "data = {\n",
        "    \"Item\": [\"TV\", \"TV\", \"TV\", \"AC\"],\n",
        "    \"Company\": [\"LG\", \"VIDEOCON\", \"LG\", \"SONY\"],\n",
        "    \"Rupees\": [12000, 10000, 15000, 14000],\n",
        "    \"USD\": [200, 180, 250, 230]\n",
        "}\n",
        "df = pd.DataFrame(data)\n",
        "print(df)\n"
      ],
      "metadata": {
        "id": "3dc1-xiBKljh",
        "outputId": "39d2f174-0805-4854-fd16-11c3a82ee898",
        "colab": {
          "base_uri": "https://localhost:8080/"
        }
      },
      "execution_count": 3,
      "outputs": [
        {
          "output_type": "stream",
          "name": "stdout",
          "text": [
            "  Item   Company  Rupees  USD\n",
            "0   TV        LG   12000  200\n",
            "1   TV  VIDEOCON   10000  180\n",
            "2   TV        LG   15000  250\n",
            "3   AC      SONY   14000  230\n"
          ]
        }
      ]
    },
    {
      "cell_type": "code",
      "source": [
        " total_rupees = df['Rupees'].sum()\n",
        " print(\"Total sum of all products in Rupees:\", total_rupees)"
      ],
      "metadata": {
        "id": "0Fr8-SEhLDlA",
        "outputId": "e5c02d45-ed6d-4fc5-d869-30dcc2af57ab",
        "colab": {
          "base_uri": "https://localhost:8080/"
        }
      },
      "execution_count": 6,
      "outputs": [
        {
          "output_type": "stream",
          "name": "stdout",
          "text": [
            "Total sum of all products in Rupees: 51000\n"
          ]
        }
      ]
    },
    {
      "cell_type": "code",
      "source": [
        "   sony_median_usd = df[df['Company'] == 'SONY']['USD'].median()\n",
        "   print(\"Median USD for SONY products:\", sony_median_usd)"
      ],
      "metadata": {
        "id": "ONN-G9e4LV6M",
        "outputId": "6f6cd1fe-8e8b-42dc-f036-7844c2f83597",
        "colab": {
          "base_uri": "https://localhost:8080/"
        }
      },
      "execution_count": 10,
      "outputs": [
        {
          "output_type": "stream",
          "name": "stdout",
          "text": [
            "Median USD for SONY products: 230.0\n"
          ]
        }
      ]
    },
    {
      "cell_type": "code",
      "source": [
        "   sorted_df = df.sort_values(by='Rupees')\n",
        "   print(sorted_df)"
      ],
      "metadata": {
        "id": "QGkNTpxnLeSS",
        "outputId": "872be3c6-360c-48e7-d666-ad7a04199eef",
        "colab": {
          "base_uri": "https://localhost:8080/"
        }
      },
      "execution_count": 11,
      "outputs": [
        {
          "output_type": "stream",
          "name": "stdout",
          "text": [
            "  Item   Company  Rupees  USD\n",
            "1   TV  VIDEOCON   10000  180\n",
            "0   TV        LG   12000  200\n",
            "3   AC      SONY   14000  230\n",
            "2   TV        LG   15000  250\n"
          ]
        }
      ]
    },
    {
      "cell_type": "code",
      "source": [],
      "metadata": {
        "id": "Xy6qz_UnLkwR"
      },
      "execution_count": null,
      "outputs": []
    }
  ]
}